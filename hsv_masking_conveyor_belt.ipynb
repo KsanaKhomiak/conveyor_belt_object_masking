{
 "cells": [
  {
   "cell_type": "code",
   "execution_count": null,
   "metadata": {},
   "outputs": [],
   "source": [
    "import cv2\n",
    "import numpy as np\n",
    "import matplotlib.pyplot as plt\n",
    "\n",
    "def plot_hsv_histograms (image, roi):\n",
    "    hsv_image = cv2.cvtColor(image, cv2.COLOR_RGB2HSV)\n",
    "    hsv_roi = cv2.cvtColor(roi, cv2.COLOR_RGB2HSV)\n",
    "\n",
    "    h_image, s_image, v_image = hsv_image[:,:,0],hsv_image[:,:,1],hsv_image[:,:,2]\n",
    "    h_roi, s_roi, v_roi = hsv_roi[:,:,0],hsv_roi[:,:,1],hsv_roi[:,:,2]\n",
    "\n",
    "    h_image_hist = cv2.calcHist([h_image],[0],None,[256],[0,256])\n",
    "    s_image_hist = cv2.calcHist([s_image],[0],None,[256],[0,256])\n",
    "    v_image_hist = cv2.calcHist([v_image],[0],None,[256],[0,256])\n",
    "    h_roi_hist = cv2.calcHist([h_roi],[0],None,[256],[0,256])\n",
    "    s_roi_hist = cv2.calcHist([s_roi],[0],None,[256],[0,256])\n",
    "    v_roi_hist = cv2.calcHist([v_roi],[0],None,[256],[0,256])\n",
    "\n",
    "    image_color = 'royalblue'\n",
    "    roi_color = 'goldenrod'\n",
    "    fig, axis  = plt.subplots(3,1)\n",
    "    axis[0].plot(h_image_hist, color = image_color)\n",
    "    axis[0].plot(h_roi_hist, color = roi_color)\n",
    "    axis[0].set_title('Hue distribution')\n",
    "    axis[1].plot(s_image_hist, color = image_color)\n",
    "    axis[1].plot(s_roi_hist, color = roi_color)\n",
    "    axis[1].set_title('Saturation distribution')\n",
    "    axis[2].plot(v_image_hist, color = image_color)\n",
    "    axis[2].plot(v_roi_hist, color = roi_color)\n",
    "    axis[2].set_title('Value distribution')\n",
    "    fig.tight_layout()\n",
    "    plt.show()\n",
    "    return hsv_image\n",
    "\n",
    "def hsv_mask_roi(lower_tresh, upper_tresh,image):\n",
    "    hsv_image = cv2.cvtColor(image, cv2.COLOR_RGB2HSV)\n",
    "    lower_thresh = np.array(lower_tresh)\n",
    "    upper_thresh = np.array(upper_tresh)\n",
    "\n",
    "    mask_roi = cv2.inRange(hsv_image, lower_thresh, upper_thresh)\n",
    "    masked_image = cv2.bitwise_and(image,image, mask = mask_roi)\n",
    "    gray_image = cv2.cvtColor(masked_image,cv2.COLOR_RGB2GRAY)\n",
    "    threshold = cv2.threshold(gray_image, 10,255, cv2.THRESH_BINARY)[1]\n",
    "\n",
    "    return (masked_image,threshold)\n",
    "\n",
    "def plot_multiple_images (image1, image2,image3):\n",
    "    cmap = 'plasma'\n",
    "    fig = plt.figure(figsize=(10,15))\n",
    "    gs = fig.add_gridspec(1, 3, hspace=0, wspace=0)\n",
    "    (ax1, ax2, ax3) = gs.subplots(sharex='col', sharey='row')\n",
    "    ax1.imshow(image1)\n",
    "    ax2.imshow(image2)\n",
    "    ax3.imshow(image3, cmap= cmap)\n",
    "    for ax in fig.get_axes():\n",
    "        ax.label_outer()\n",
    "\n",
    "def display_tracking_window_axis_center(frame,x,y,tw_width,tw_height, rows):\n",
    "        bounding_box = cv2.rectangle(frame,\n",
    "                  (x, y),\n",
    "                  (x + tw_width, y + tw_height),\n",
    "                  (61,89,171), 4)\n",
    "        horisontal_axis = cv2.line(frame,\n",
    "                        (x + int(tw_width/2), 0),\n",
    "                        (x + int(tw_width/2), rows),\n",
    "                        (255, 0, 0), 1)\n",
    "        object_center = cv2.circle(frame,\n",
    "                                (x + int(tw_width/2), y + int(tw_height/2)),\n",
    "                                2, (0,0,255),2)\n",
    "        \n",
    "        return (bounding_box, horisontal_axis,object_center)"
   ]
  },
  {
   "cell_type": "code",
   "execution_count": null,
   "metadata": {},
   "outputs": [],
   "source": [
    "video = cv2.VideoCapture(r'.\\input_data\\DJI_0174_cut.mp4')\n",
    "first_frame = video.read()[1]\n",
    "plt.imshow(first_frame)"
   ]
  },
  {
   "cell_type": "code",
   "execution_count": null,
   "metadata": {},
   "outputs": [],
   "source": [
    "roi_start_x = 0\n",
    "roi_end_x = 1080\n",
    "roi_start_y = 880\n",
    "roi_end_y = 1240\n",
    "frame_roi = first_frame[roi_start_x:roi_end_x, roi_start_y:roi_end_y]"
   ]
  },
  {
   "cell_type": "markdown",
   "metadata": {},
   "source": [
    "Masking using HSV color model"
   ]
  },
  {
   "cell_type": "code",
   "execution_count": null,
   "metadata": {},
   "outputs": [],
   "source": [
    "hsv_image = plot_hsv_histograms(first_frame,frame_roi)"
   ]
  },
  {
   "cell_type": "code",
   "execution_count": null,
   "metadata": {},
   "outputs": [],
   "source": [
    "lower_hsv = [100,5,60]\n",
    "upper_hsv = [112,40,100]\n",
    "masked_image,threshold = hsv_mask_roi(lower_hsv, upper_hsv,first_frame)\n",
    "\n",
    "plot_multiple_images(first_frame,hsv_image,threshold)"
   ]
  },
  {
   "cell_type": "markdown",
   "metadata": {},
   "source": [
    "Masking video and applying tracking window (HSV)"
   ]
  },
  {
   "cell_type": "code",
   "execution_count": null,
   "metadata": {},
   "outputs": [],
   "source": [
    "tw_start_point_x = 750\n",
    "tw_start_point_y = 300\n",
    "tw_start_width = 360\n",
    "tw_start_height = 1000\n",
    "term_criteria= (cv2.TERM_CRITERIA_EPS | cv2.TERM_CRITERIA_COUNT, 10,1)\n",
    "\n",
    "while True:\n",
    "    frame = video.read()[1]\n",
    "\n",
    "    frame_roi = frame[roi_start_x:roi_end_x, roi_start_y:roi_end_y]\n",
    "    masked_image,threshold = hsv_mask_roi(lower_hsv, upper_hsv,frame)\n",
    "    \n",
    "\n",
    "    track_window = cv2.meanShift(threshold,\n",
    "                                 (tw_start_point_x, tw_start_point_y,\n",
    "                                  tw_start_width, tw_start_height),\n",
    "                                  term_criteria)[1]\n",
    "    tw_start_point_x, tw_start_point_y, tw_width, tw_height = track_window\n",
    "    rows, cols, _bands = frame.shape\n",
    "\n",
    "    bounding_box, horisontal_axis, object_center = display_tracking_window_axis_center(\n",
    "        frame,tw_start_point_x, tw_start_point_y,tw_width,tw_height,rows)\n",
    "\n",
    "    cv2.imshow('Frame', frame)\n",
    "    key = cv2.waitKey(100) #for framerate 20, normal playback is 100\n",
    "    if key == 27:\n",
    "        break\n",
    "video.release()\n",
    "cv2.destroyAllWindows()"
   ]
  }
 ],
 "metadata": {
  "kernelspec": {
   "display_name": "base",
   "language": "python",
   "name": "python3"
  },
  "language_info": {
   "codemirror_mode": {
    "name": "ipython",
    "version": 3
   },
   "file_extension": ".py",
   "mimetype": "text/x-python",
   "name": "python",
   "nbconvert_exporter": "python",
   "pygments_lexer": "ipython3",
   "version": "3.10.9"
  },
  "orig_nbformat": 4
 },
 "nbformat": 4,
 "nbformat_minor": 2
}
