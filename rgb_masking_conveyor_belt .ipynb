{
 "cells": [
  {
   "cell_type": "code",
   "execution_count": null,
   "metadata": {},
   "outputs": [],
   "source": [
    "import cv2\n",
    "import numpy as np\n",
    "import matplotlib.pyplot as plt\n",
    "\n",
    "def plot_rgb_histograms (image, roi):\n",
    "    r_image, g_image, b_image = image[:,:,0],image[:,:,1],image[:,:,2]\n",
    "    r_roi, g_roi, b_roi = roi[:,:,0],roi[:,:,1],roi[:,:,2]\n",
    "\n",
    "    r_image_hist = cv2.calcHist([r_image],[0],None,[256],[0,256])\n",
    "    g_image_hist = cv2.calcHist([g_image],[0],None,[256],[0,256])\n",
    "    b_image_hist = cv2.calcHist([b_image],[0],None,[256],[0,256])\n",
    "    r_roi_hist = cv2.calcHist([r_roi],[0],None,[256],[0,256])\n",
    "    g_roi_hist = cv2.calcHist([g_roi],[0],None,[256],[0,256])\n",
    "    b_roi_hist = cv2.calcHist([b_roi],[0],None,[256],[0,256])\n",
    "\n",
    "    image_color = 'royalblue'\n",
    "    roi_color = 'goldenrod'\n",
    "    fig, axis  = plt.subplots(3,1)\n",
    "    axis[0].plot(r_image_hist, color = image_color)\n",
    "    axis[0].plot(r_roi_hist, color = roi_color)\n",
    "    axis[0].set_title('Red distribution')\n",
    "    axis[1].plot(g_image_hist, color = image_color)\n",
    "    axis[1].plot(g_roi_hist, color = roi_color)\n",
    "    axis[1].set_title('Green distribution')\n",
    "    axis[2].plot(b_image_hist, color = image_color)\n",
    "    axis[2].plot(b_roi_hist, color = roi_color)\n",
    "    axis[2].set_title('Blue distribution')\n",
    "    fig.tight_layout()\n",
    "    plt.show()\n",
    "\n",
    "def rgb_mask_roi(lower_tresh, upper_tresh,image):\n",
    "    lower_thresh = np.array(lower_tresh)\n",
    "    upper_thresh = np.array(upper_tresh)\n",
    "\n",
    "    mask_roi = cv2.inRange(image, lower_thresh, upper_thresh)\n",
    "    masked_image = cv2.bitwise_and(image,image, mask = mask_roi)\n",
    "    gray_image = cv2.cvtColor(masked_image,cv2.COLOR_RGB2GRAY)\n",
    "    threshold = cv2.threshold(gray_image, 10,255, cv2.THRESH_BINARY)[1]\n",
    "\n",
    "    return (masked_image,threshold)\n",
    "\n",
    "def plot_multiple_images (image1, image2,image3):\n",
    "    cmap = 'plasma'\n",
    "    fig = plt.figure(figsize=(10,15))\n",
    "    gs = fig.add_gridspec(1, 3, hspace=0, wspace=0)\n",
    "    (ax1, ax2, ax3) = gs.subplots(sharex='col', sharey='row')\n",
    "    ax1.imshow(image1)\n",
    "    ax2.imshow(image2)\n",
    "    ax3.imshow(image3, cmap= cmap)\n",
    "    for ax in fig.get_axes():\n",
    "        ax.label_outer()\n",
    "\n",
    "def display_tracking_window_axis_center(frame,x,y,tw_width,tw_height, rows):\n",
    "        bounding_box = cv2.rectangle(frame,\n",
    "                  (x, y),\n",
    "                  (x + tw_width, y + tw_height),\n",
    "                  (61,89,171), 2)\n",
    "        horisontal_axis = cv2.line(frame,\n",
    "                        (x + int(tw_width/2), 0),\n",
    "                        (x + int(tw_width/2), rows),\n",
    "                        (255, 0, 0), 1)\n",
    "        object_center = cv2.circle(frame,\n",
    "                                (x + int(tw_width/2), y + int(tw_height/2)),\n",
    "                                2, (0,0,255),2)\n",
    "        \n",
    "        return (bounding_box, horisontal_axis,object_center)"
   ]
  },
  {
   "cell_type": "code",
   "execution_count": null,
   "metadata": {},
   "outputs": [],
   "source": [
    "video = cv2.VideoCapture(r'.\\input_data\\DJI_0174_cut.mp4')\n",
    "first_frame = video.read()[1]\n",
    "plt.imshow(first_frame)"
   ]
  },
  {
   "cell_type": "code",
   "execution_count": null,
   "metadata": {},
   "outputs": [],
   "source": [
    "roi_start_x = 0\n",
    "roi_end_x = 1080\n",
    "roi_start_y = 880\n",
    "roi_end_y = 1240\n",
    "frame_roi = first_frame[roi_start_x:roi_end_x, roi_start_y:roi_end_y]"
   ]
  },
  {
   "cell_type": "markdown",
   "metadata": {},
   "source": [
    "Masking using RGB color model"
   ]
  },
  {
   "cell_type": "code",
   "execution_count": null,
   "metadata": {},
   "outputs": [],
   "source": [
    "plot_rgb_histograms(first_frame,frame_roi)"
   ]
  },
  {
   "cell_type": "code",
   "execution_count": null,
   "metadata": {},
   "outputs": [],
   "source": [
    "lower_rgb = [50,50,55]\n",
    "upper_rgb = [100,100,100]\n",
    "masked_image, threshold = rgb_mask_roi(lower_rgb, upper_rgb,first_frame)\n",
    "\n",
    "plot_multiple_images(first_frame,masked_image,threshold)"
   ]
  },
  {
   "cell_type": "markdown",
   "metadata": {},
   "source": [
    "Masking video and applying tracking window (RGB)"
   ]
  },
  {
   "cell_type": "code",
   "execution_count": null,
   "metadata": {},
   "outputs": [],
   "source": [
    "tw_start_point_x = 750\n",
    "tw_start_point_y = 300\n",
    "tw_start_width = 360\n",
    "tw_start_height = 1000\n",
    "term_criteria= (cv2.TERM_CRITERIA_EPS | cv2.TERM_CRITERIA_COUNT, 10,1)\n",
    "\n",
    "while True:\n",
    "    frame = video.read()[1]\n",
    "\n",
    "    frame_roi = frame[roi_start_x:roi_end_x, roi_start_y:roi_end_y]\n",
    "    masked_image,threshold = rgb_mask_roi(lower_rgb, upper_rgb,frame)\n",
    "    \n",
    "\n",
    "    track_window = cv2.meanShift(threshold,\n",
    "                                 (tw_start_point_x, tw_start_point_y,\n",
    "                                  tw_start_width, tw_start_height),\n",
    "                                  term_criteria)[1]\n",
    "    tw_start_point_x, tw_start_point_y, tw_width, tw_height = track_window\n",
    "    rows, cols, _bands = frame.shape\n",
    "\n",
    "    bounding_box, horisontal_axis, object_center = display_tracking_window_axis_center(\n",
    "        frame,tw_start_point_x, tw_start_point_y,tw_width,tw_height,rows)\n",
    "\n",
    "    cv2.imshow('Frame', frame)\n",
    "    key = cv2.waitKey(100) #for framerate 20, normal playback is 100\n",
    "    if key == 27:\n",
    "        break\n",
    "video.release()\n",
    "cv2.destroyAllWindows()"
   ]
  }
 ],
 "metadata": {
  "kernelspec": {
   "display_name": "base",
   "language": "python",
   "name": "python3"
  },
  "language_info": {
   "codemirror_mode": {
    "name": "ipython",
    "version": 3
   },
   "file_extension": ".py",
   "mimetype": "text/x-python",
   "name": "python",
   "nbconvert_exporter": "python",
   "pygments_lexer": "ipython3",
   "version": "3.10.9"
  },
  "orig_nbformat": 4
 },
 "nbformat": 4,
 "nbformat_minor": 2
}
